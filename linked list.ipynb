{
 "cells": [
  {
   "cell_type": "code",
   "execution_count": 13,
   "id": "24dab3d5",
   "metadata": {},
   "outputs": [
    {
     "name": "stdout",
     "output_type": "stream",
     "text": [
      "[0, 1, 2, 3, 4]\n"
     ]
    },
    {
     "ename": "AttributeError",
     "evalue": "'SlinkedList' object has no attribute 'traverseSLL'",
     "output_type": "error",
     "traceback": [
      "\u001b[1;31m---------------------------------------------------------------------------\u001b[0m",
      "\u001b[1;31mAttributeError\u001b[0m                            Traceback (most recent call last)",
      "Input \u001b[1;32mIn [13]\u001b[0m, in \u001b[0;36m<cell line: 48>\u001b[1;34m()\u001b[0m\n\u001b[0;32m     46\u001b[0m singlyLinkedList\u001b[38;5;241m.\u001b[39minsertSLL(\u001b[38;5;241m0\u001b[39m,\u001b[38;5;241m0\u001b[39m)\n\u001b[0;32m     47\u001b[0m \u001b[38;5;28mprint\u001b[39m([node\u001b[38;5;241m.\u001b[39mvalue \u001b[38;5;28;01mfor\u001b[39;00m node \u001b[38;5;129;01min\u001b[39;00m singlyLinkedList])\n\u001b[1;32m---> 48\u001b[0m \u001b[43msinglyLinkedList\u001b[49m\u001b[38;5;241;43m.\u001b[39;49m\u001b[43mtraverseSLL\u001b[49m()\n",
      "\u001b[1;31mAttributeError\u001b[0m: 'SlinkedList' object has no attribute 'traverseSLL'"
     ]
    }
   ],
   "source": [
    "class Node:\n",
    "    def __init__(self,value=None):\n",
    "        self.value=value\n",
    "        self.next=None\n",
    "\n",
    "\n",
    "class SlinkedList:\n",
    "    def __init__(self):\n",
    "        self.head=None\n",
    "        self.tail=None\n",
    "    def __iter__(self):\n",
    "        node=self.head\n",
    "        while node:\n",
    "            yield node\n",
    "            node=node.next\n",
    "    #insert in linked list\n",
    "    def insertSLL(self,value,location):\n",
    "        newNode=Node(value)\n",
    "        if self.head is None:\n",
    "            self.head=newNode\n",
    "            self.tail=newNode\n",
    "        else:\n",
    "            if location==0:\n",
    "                newNode.next=self.head\n",
    "                self.head=newNode\n",
    "                \n",
    "            elif location==1:\n",
    "                newNode.next=None\n",
    "                self.tail.next=newNode\n",
    "                self.tail=newNode\n",
    "            else:\n",
    "                tempNode=self.head\n",
    "                index=0\n",
    "                while index <location-1:\n",
    "                    tempNode=tempNode.next\n",
    "                    index +=1\n",
    "                nextNode=tempNode.next\n",
    "                tempNode.next=newNode\n",
    "                newNode.next=nextNode\n",
    "        \n",
    "singlyLinkedList=SlinkedList()\n",
    "singlyLinkedList.insertSLL(1,1)\n",
    "singlyLinkedList.insertSLL(2,1)\n",
    "singlyLinkedList.insertSLL(3,1)\n",
    "singlyLinkedList.insertSLL(4,1)\n",
    "singlyLinkedList.insertSLL(0,0)\n",
    "print([node.value for node in singlyLinkedList])\n",
    "singlyLinkedList.traverseSLL()\n",
    "\n",
    "# node1=Node(1)\n",
    "# node2=Node(2)\n",
    "\n",
    "# singlyLinkedList.head=node1\n",
    "# singlyLinkedList.head.next=node2\n",
    "# singlyLinkedList.tail=node2\n",
    "        "
   ]
  },
  {
   "cell_type": "code",
   "execution_count": 12,
   "id": "b24150c8",
   "metadata": {},
   "outputs": [],
   "source": [
    "def traverseSLL(self):\n",
    "    if self.head is None:\n",
    "        print(\"doesnot exist\")\n",
    "        \n",
    "    else:\n",
    "        node=self.head\n",
    "        while node is not None:\n",
    "            print(node.value)\n",
    "            node.next"
   ]
  },
  {
   "cell_type": "code",
   "execution_count": 14,
   "id": "efcf4f0a",
   "metadata": {},
   "outputs": [
    {
     "ename": "TypeError",
     "evalue": "traverseSLL() missing 1 required positional argument: 'self'",
     "output_type": "error",
     "traceback": [
      "\u001b[1;31m---------------------------------------------------------------------------\u001b[0m",
      "\u001b[1;31mTypeError\u001b[0m                                 Traceback (most recent call last)",
      "Input \u001b[1;32mIn [14]\u001b[0m, in \u001b[0;36m<cell line: 1>\u001b[1;34m()\u001b[0m\n\u001b[1;32m----> 1\u001b[0m \u001b[43mtraverseSLL\u001b[49m\u001b[43m(\u001b[49m\u001b[43m)\u001b[49m\n",
      "\u001b[1;31mTypeError\u001b[0m: traverseSLL() missing 1 required positional argument: 'self'"
     ]
    }
   ],
   "source": [
    "traverseSLL()"
   ]
  },
  {
   "cell_type": "code",
   "execution_count": null,
   "id": "906bbe26",
   "metadata": {},
   "outputs": [],
   "source": []
  }
 ],
 "metadata": {
  "kernelspec": {
   "display_name": "Python 3 (ipykernel)",
   "language": "python",
   "name": "python3"
  },
  "language_info": {
   "codemirror_mode": {
    "name": "ipython",
    "version": 3
   },
   "file_extension": ".py",
   "mimetype": "text/x-python",
   "name": "python",
   "nbconvert_exporter": "python",
   "pygments_lexer": "ipython3",
   "version": "3.9.12"
  }
 },
 "nbformat": 4,
 "nbformat_minor": 5
}
