{
 "cells": [
  {
   "cell_type": "code",
   "execution_count": 1,
   "id": "efe12f7c",
   "metadata": {},
   "outputs": [],
   "source": [
    "import numpy as np"
   ]
  },
  {
   "cell_type": "markdown",
   "id": "16a1f802",
   "metadata": {},
   "source": [
    "How to find maximum product of two integers in the array where all integers are positive "
   ]
  },
  {
   "cell_type": "code",
   "execution_count": 5,
   "id": "72d7fc74",
   "metadata": {},
   "outputs": [],
   "source": [
    "def maximumProduct(array):\n",
    "    product=0\n",
    "    for i in range(len(array)):\n",
    "        for j in range(i+1,len(array)):\n",
    "            if array[i]*array[j]>=product:\n",
    "                product=array[i]*array[j]\n",
    "                pairs=str(array[i])+\",\"+str(array[j])\n",
    "    print(product)\n",
    "    print(pairs)"
   ]
  },
  {
   "cell_type": "code",
   "execution_count": 6,
   "id": "d610ef73",
   "metadata": {},
   "outputs": [
    {
     "name": "stdout",
     "output_type": "stream",
     "text": [
      "380\n",
      "19,20\n",
      "None\n"
     ]
    }
   ],
   "source": [
    "myArray = np.array([1, 2, 3, 4, 5, 6, 7, 8, 9, 10, 11, 12, 13, 14, 15, 16, 17, 18, 19, 20])\n",
    "print(maximumProduct(myArray))"
   ]
  },
  {
   "cell_type": "code",
   "execution_count": 7,
   "id": "ae31279e",
   "metadata": {},
   "outputs": [],
   "source": [
    "#check whether elemnts are unique or not"
   ]
  },
  {
   "cell_type": "code",
   "execution_count": 13,
   "id": "5936d2a4",
   "metadata": {},
   "outputs": [],
   "source": [
    "def isunique(array):\n",
    "    l=[]\n",
    "    for i in array:\n",
    "        if i in l:\n",
    "            print(i)\n",
    "            return False\n",
    "        else:\n",
    "            l.append(i)\n",
    "    return True"
   ]
  },
  {
   "cell_type": "code",
   "execution_count": 14,
   "id": "2c3a1753",
   "metadata": {},
   "outputs": [
    {
     "name": "stdout",
     "output_type": "stream",
     "text": [
      "5\n",
      "False\n"
     ]
    }
   ],
   "source": [
    "aee=[1,2,3,4,5,6,5,8,9]\n",
    "print(isunique(aee))"
   ]
  },
  {
   "cell_type": "code",
   "execution_count": 15,
   "id": "cfbd3fbd",
   "metadata": {},
   "outputs": [],
   "source": [
    "#Permutations qn\n",
    "def permutation(list1,list2):\n",
    "    if len(list1)!=len(list2):\n",
    "        return False\n",
    "    list1.sort()\n",
    "    list2.sort()\n",
    "    if list1==list2:\n",
    "        return True\n",
    "    else:\n",
    "        return False\n",
    "        \n",
    "        "
   ]
  },
  {
   "cell_type": "code",
   "execution_count": 18,
   "id": "94247cab",
   "metadata": {},
   "outputs": [
    {
     "name": "stdout",
     "output_type": "stream",
     "text": [
      "False\n"
     ]
    }
   ],
   "source": [
    "list1=[\"a\",\"c\",\"d\"]\n",
    "list2=[\"c\",\"a\",\"b\"]\n",
    "print(permutation(list1,list2))"
   ]
  },
  {
   "cell_type": "code",
   "execution_count": 19,
   "id": "3d9a0a2f",
   "metadata": {},
   "outputs": [],
   "source": [
    "#rotate matrix by 90"
   ]
  },
  {
   "cell_type": "code",
   "execution_count": 20,
   "id": "9ec189cd",
   "metadata": {},
   "outputs": [],
   "source": [
    "import numpy as np"
   ]
  },
  {
   "cell_type": "code",
   "execution_count": 23,
   "id": "90ac3aec",
   "metadata": {},
   "outputs": [],
   "source": [
    "myarray1=np.array([[1,2,3],[4,5,6],[7,8,9]])"
   ]
  },
  {
   "cell_type": "code",
   "execution_count": 25,
   "id": "1f218f06",
   "metadata": {},
   "outputs": [
    {
     "data": {
      "text/plain": [
       "array([[1, 2, 3],\n",
       "       [4, 5, 6],\n",
       "       [7, 8, 9]])"
      ]
     },
     "execution_count": 25,
     "metadata": {},
     "output_type": "execute_result"
    }
   ],
   "source": [
    "myarray1"
   ]
  },
  {
   "cell_type": "code",
   "execution_count": 27,
   "id": "065591cb",
   "metadata": {},
   "outputs": [],
   "source": [
    "def rotateMatrix(matrix):\n",
    "    n=len(matrix)#will give no of row \n",
    "    for layer in range(n//2):\n",
    "        first=layer\n",
    "        last=n-layer-1\n",
    "        for i in range(first,last):\n",
    "            #save top elemrnt\n",
    "            top=matrix[layer][i]\n",
    "            #move top element to left\n",
    "            matrix[layer][i]=matrix[-i-1][layer]\n",
    "            #move bottom element to left\n",
    "            matrix[-i-1][layer]=matrix[-layer-1][-i-1]\n",
    "            #move right to bottom\n",
    "            matrix[-layer-1][-i-1]=matrix[i][-layer-1]\n",
    "            #move to right\n",
    "            matrix[i][-layer-1]=top\n",
    "    return matrix\n",
    "\n",
    "    \n",
    "    "
   ]
  },
  {
   "cell_type": "code",
   "execution_count": 28,
   "id": "a1af7951",
   "metadata": {},
   "outputs": [
    {
     "name": "stdout",
     "output_type": "stream",
     "text": [
      "[[7 4 1]\n",
      " [8 5 2]\n",
      " [9 6 3]]\n"
     ]
    }
   ],
   "source": [
    "print(rotateMatrix(myarray1))"
   ]
  },
  {
   "cell_type": "code",
   "execution_count": null,
   "id": "c13d1977",
   "metadata": {},
   "outputs": [],
   "source": []
  }
 ],
 "metadata": {
  "kernelspec": {
   "display_name": "Python 3 (ipykernel)",
   "language": "python",
   "name": "python3"
  },
  "language_info": {
   "codemirror_mode": {
    "name": "ipython",
    "version": 3
   },
   "file_extension": ".py",
   "mimetype": "text/x-python",
   "name": "python",
   "nbconvert_exporter": "python",
   "pygments_lexer": "ipython3",
   "version": "3.9.12"
  }
 },
 "nbformat": 4,
 "nbformat_minor": 5
}
